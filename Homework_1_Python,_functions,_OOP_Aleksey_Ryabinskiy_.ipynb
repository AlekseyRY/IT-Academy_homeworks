{
 "cells": [
  {
   "cell_type": "code",
   "execution_count": 2,
   "id": "88acce6c",
   "metadata": {
    "id": "88acce6c"
   },
   "outputs": [],
   "source": [
    "from typing import Tuple, Iterable, List, Dict, Callable, Any, Optional, Union"
   ]
  },
  {
   "cell_type": "markdown",
   "id": "8deffe2e",
   "metadata": {
    "id": "8deffe2e"
   },
   "source": [
    "# <center>Функции</center>"
   ]
  },
  {
   "cell_type": "markdown",
   "id": "38410629",
   "metadata": {
    "id": "38410629"
   },
   "source": [
    "# 1. Метрики"
   ]
  },
  {
   "cell_type": "markdown",
   "id": "225a2c3f",
   "metadata": {
    "id": "225a2c3f"
   },
   "source": [
    "Данное задание призвано как проверить навыки работы с функциями, так и ознакомить Вас с метриками, которые используются во время тренировки моделей Supervised Learning."
   ]
  },
  {
   "cell_type": "markdown",
   "id": "5571e6bf",
   "metadata": {
    "id": "5571e6bf"
   },
   "source": [
    "### 1.1 Gini score"
   ]
  },
  {
   "cell_type": "markdown",
   "id": "d1b43ff5",
   "metadata": {
    "id": "d1b43ff5"
   },
   "source": [
    "Критерий Gini показывает, насколько однородным является выбранная группа, и расчитывается по следующей формуле:"
   ]
  },
  {
   "cell_type": "markdown",
   "id": "b269b41e",
   "metadata": {
    "id": "b269b41e"
   },
   "source": [
    "$$Gini = 1 - \\sum p_{j}^{2}$$"
   ]
  },
  {
   "cell_type": "markdown",
   "id": "fef2bc3d",
   "metadata": {
    "id": "fef2bc3d"
   },
   "source": [
    "где $p_{j}$ - это частота каждого класса в данной группе (или, иными словами, вероятность того, что случайно взятый экземпляр из этой группы принадлежит к данному классу).  \n",
    "  \n",
    "Например, у нас есть группа из 20 шариков, 10 из которых - синие, 7 - зелёные, и 3 - красные. В данном случае критерий Gini будет равен:"
   ]
  },
  {
   "cell_type": "markdown",
   "id": "8bdb5502",
   "metadata": {
    "id": "8bdb5502"
   },
   "source": [
    "$$Gini = 1 - ((\\frac{10}{20})^{2} + (\\frac{7}{20})^{2} + (\\frac{3}{20})^{2}) = 1 - 0.395 = 0.605$$"
   ]
  },
  {
   "cell_type": "markdown",
   "id": "2003467f",
   "metadata": {
    "id": "2003467f"
   },
   "source": [
    "Критерий Gini может принимать значения от 0 (абсолютно гомогенная группа, состоящая из одного класса) до 1 (максимальная неопределённость, множество классов с одинаковыми вероятностями выпадения)"
   ]
  },
  {
   "cell_type": "markdown",
   "id": "a4eca3f3",
   "metadata": {
    "id": "a4eca3f3"
   },
   "source": [
    "#### Задание: написать функцию, которая получает на вход список целых чисел, и вычисляет значение критерия Gini"
   ]
  },
  {
   "cell_type": "code",
   "execution_count": null,
   "id": "29fee1f1",
   "metadata": {
    "id": "29fee1f1"
   },
   "outputs": [],
   "source": [
    "def gini_score(items: Iterable[int]) -> float:\n",
    "    total_amount = sum(items)\n",
    "    square_frequency_sum = 0\n",
    "    for item in items:\n",
    "        square_frequency_sum += (item / total_amount) ** 2\n",
    "    return 1 - square_frequency_sum\n",
    "\n",
    "#для примера\n",
    "#my_list = [10, 7, 3] \n",
    "#print(gini_score(my_list))"
   ]
  },
  {
   "cell_type": "markdown",
   "id": "7dec4db2",
   "metadata": {
    "id": "7dec4db2"
   },
   "source": [
    "---"
   ]
  },
  {
   "cell_type": "markdown",
   "id": "43b5e318",
   "metadata": {
    "id": "43b5e318"
   },
   "source": [
    "### 1.2 Entropy"
   ]
  },
  {
   "cell_type": "markdown",
   "id": "03874ec5",
   "metadata": {
    "id": "03874ec5"
   },
   "source": [
    "Энтропия измеряет степень неопределённости группы, и, конкретно в нашем случае, описывает количество информации, требуемое для описания распределения (distributon) в группе.  \n",
    "Формула (средней) энтропии:"
   ]
  },
  {
   "cell_type": "markdown",
   "id": "ab2bd7f8",
   "metadata": {
    "id": "ab2bd7f8"
   },
   "source": [
    "$$Entropy = - \\sum p_{j}\\log p_{j}$$"
   ]
  },
  {
   "cell_type": "markdown",
   "id": "1982f925",
   "metadata": {
    "id": "1982f925"
   },
   "source": [
    "как и в случае с критерием Gini, $p_{j}$ - это частота каждого класса в данной группе.  \n",
    "  \n",
    "В том же примере с шариками (группа из 20 шариков, 10 из которых - синие, 7 - зелёные, и 3 - красные), уровень энтропии будет равен:"
   ]
  },
  {
   "cell_type": "markdown",
   "id": "e32cd1da",
   "metadata": {
    "id": "e32cd1da"
   },
   "source": [
    "$$Entropy = -\\ (\\frac{10}{20} * \\log(\\frac{10}{20}) + \\frac{7}{20} * \\log(\\frac{7}{20}) + \\frac{3}{20} * \\log(\\frac{3}{20})) = - \\ (-0.347 - 0.367 -0.285) = 0.999$$"
   ]
  },
  {
   "cell_type": "markdown",
   "id": "e36e333b",
   "metadata": {
    "id": "e36e333b"
   },
   "source": [
    "Энтропия может принимать значения от 0 (абсолютно гомогенная группа, состоящая из одного класса) до бесконечности (максимальная неопределённость), хотя на практике максимальное значение ограничено логарифмической функцией и достигает величины в 20-30 единиц (можете попробовать запустить её со списком из миллиона уникальных значений)."
   ]
  },
  {
   "cell_type": "markdown",
   "id": "bd9e3fd0",
   "metadata": {
    "id": "bd9e3fd0"
   },
   "source": [
    "#### Задание: написать функцию, которая получает на вход список целых чисел, и вычисляет значение Энтропии"
   ]
  },
  {
   "cell_type": "code",
   "execution_count": 4,
   "id": "16874933",
   "metadata": {
    "id": "16874933"
   },
   "outputs": [
    {
     "name": "stdout",
     "output_type": "stream",
     "text": [
      "0.9985793315873921\n"
     ]
    }
   ],
   "source": [
    "from math import log \n",
    "\n",
    "def entropy_score(items: Iterable[int]) -> float:\n",
    "    total_amount = sum(items)\n",
    "    log_frequency_sum = 0\n",
    "    for item in items:\n",
    "        log_frequency_sum += (item / total_amount) * log(item / total_amount)\n",
    "    return - log_frequency_sum\n",
    "\n",
    "#my_list = [10, 7, 3] #для примера\n",
    "#print(entropy_score(my_list))"
   ]
  },
  {
   "cell_type": "markdown",
   "id": "b46b4e56",
   "metadata": {
    "id": "b46b4e56"
   },
   "source": [
    "---"
   ]
  },
  {
   "cell_type": "markdown",
   "id": "df6bd3cb",
   "metadata": {
    "id": "df6bd3cb"
   },
   "source": [
    "### 1.3 Mean Squared Error (MSE)"
   ]
  },
  {
   "cell_type": "markdown",
   "id": "f351c766",
   "metadata": {
    "id": "f351c766"
   },
   "source": [
    "Среднеквадратичная ошибка (Mean Squared Error, MSE) - это метрика, используемая в задачах регрессии, для оценки разницы между прогнозируемыми и фактическими значениями.  \n",
    "  \n",
    "MSE измеряет среднеквадратичное отклонение прогнозируемых значений от фактических значений и вычисляется путем суммирования квадратов разностей между каждым прогнозируемым и фактическим значением, а затем деления на количество наблюдений:"
   ]
  },
  {
   "cell_type": "markdown",
   "id": "f7860092",
   "metadata": {
    "id": "f7860092"
   },
   "source": [
    "$$MSE = \\sum_{i=0}^{n} \\frac{(y^{'}_{i} - y_{i})^{2}}{n}$$"
   ]
  },
  {
   "cell_type": "markdown",
   "id": "5005974a",
   "metadata": {
    "id": "5005974a"
   },
   "source": [
    "где $y^{'}_{i}$ - это предсказанное значение для $i$-того элемента, $y_{i}$ - его реальное значение, $n$ - общее количество элементов.  \n",
    "  \n",
    "Очевидно, что в идеальном случае, когда все предсказания в точности равны реальным значениям, **MSE** будет равен нулю (сверху же данный показатель не ограничен)."
   ]
  },
  {
   "cell_type": "markdown",
   "id": "4f8b5401",
   "metadata": {
    "id": "4f8b5401"
   },
   "source": [
    "В рамках этого задания мы слегка изменим эту метрику, и вместо $y^{'}_{i}$ (отдельного предсказания для каждого элемента) будем испльзовать среднее значение всех элементов в группе - $\\hat{y}$:"
   ]
  },
  {
   "cell_type": "markdown",
   "id": "11f8d178",
   "metadata": {
    "id": "11f8d178"
   },
   "source": [
    "$$MSE = \\sum_{i=0}^{n} \\frac{(\\hat{y} - y_{i})^{2}}{n}$$"
   ]
  },
  {
   "cell_type": "markdown",
   "id": "0c925fad",
   "metadata": {
    "id": "0c925fad"
   },
   "source": [
    "Пример: дана группа чисел $[-0.1, -2.0 ,  1.0 ,  1.8,  0.8]$.\n",
    "  \n",
    "Среднее значение группы:\n",
    "\n",
    "$$\\hat{y} = \\frac{-0.1-2.0+1.0+1.8+0.8}{5} = 0.3$$"
   ]
  },
  {
   "cell_type": "markdown",
   "id": "07da503f",
   "metadata": {
    "id": "07da503f"
   },
   "source": [
    "Значит, среднеквадратичное отклонение будет равно:"
   ]
  },
  {
   "cell_type": "markdown",
   "id": "0671f795",
   "metadata": {
    "id": "0671f795"
   },
   "source": [
    "$$MSE = \\frac{(0.3 - (-0.1))^{2} + (0.3 - (-2.0))^{2} + (0.3 - 1.0)^{2} + (0.3 - 1.8)^{2} + (0.3 - 0.8)^{2}}{5} = 1.688$$"
   ]
  },
  {
   "cell_type": "markdown",
   "id": "36bdc9e7",
   "metadata": {
    "id": "36bdc9e7"
   },
   "source": [
    "#### Задание: написать функцию, которая получает на вход список чисел, и вычисляет среднеквадратичную ошибку:"
   ]
  },
  {
   "cell_type": "code",
   "execution_count": null,
   "id": "f280f9a5",
   "metadata": {
    "id": "f280f9a5"
   },
   "outputs": [],
   "source": [
    "def mse_score(items: Iterable[Union[int, float]]) -> float:\n",
    "    ...def mse_score(items: Iterable[Union[int, float]]) -> float:\n",
    "    average = sum(items) / len(items)\n",
    "    mse = 0\n",
    "    for item in items:\n",
    "        mse += ((average - item) ** 2) / len(items)\n",
    "    return mse\n",
    "\n",
    "#my_list = [-0.1, -2.0, 1, 1.8, 0.8]\n",
    "#print(mse_score(my_list))"
   ]
  },
  {
   "cell_type": "markdown",
   "id": "dc83debb",
   "metadata": {
    "id": "dc83debb"
   },
   "source": [
    "---"
   ]
  },
  {
   "cell_type": "markdown",
   "id": "f143f72a",
   "metadata": {
    "id": "f143f72a"
   },
   "source": [
    "### 1.4 Root Mean Squared Error (RMSE)"
   ]
  },
  {
   "cell_type": "markdown",
   "id": "be4086ac",
   "metadata": {
    "id": "be4086ac"
   },
   "source": [
    "Корень средней квадратичной ошибки (Root Mean Squared Error, RMSE) имеет преимущество в том, что представляет величину ошибки в единице прогнозируемого столбца, что упрощает процесс интерпретации.  \n",
    "  \n",
    "Если вы пытаетесь спрогнозировать сумму в долларах, корень средней квадратичной ошибки можно интерпретировать как величину ошибки в долларах.\n",
    "  \n",
    "Аналогично предыдущему примеру, в данном задании мы будем вместо прогнозируемых значений использовать среднее группы:"
   ]
  },
  {
   "cell_type": "markdown",
   "id": "ec3ffcf3",
   "metadata": {
    "id": "ec3ffcf3"
   },
   "source": [
    "$$RMSE = \\sqrt{\\sum_{i=0}^{n} \\frac{(y^{'}_{i} - y_{i})^{2}}{n}} \\longrightarrow RMSE = \\sqrt{\\sum_{i=0}^{n} \\frac{(\\hat{y} - y_{i})^{2}}{n}}$$"
   ]
  },
  {
   "cell_type": "markdown",
   "id": "d9c3115c",
   "metadata": {
    "id": "d9c3115c"
   },
   "source": [
    "#### Задание: написать функцию, которая получает на вход список чисел, и вычисляет корень среднеквадратичной ошибки:"
   ]
  },
  {
   "cell_type": "code",
   "execution_count": null,
   "id": "ef7b7149",
   "metadata": {
    "id": "ef7b7149"
   },
   "outputs": [],
   "source": [
    "from math import sqrt\n",
    "\n",
    "def rmse_score(items: Iterable[Union[int, float]]) -> float:\n",
    "    average = sum(items) / len(items)\n",
    "    rmse = 0\n",
    "    for item in items:\n",
    "        rmse += ((average - item) ** 2) / len(items)\n",
    "    return sqrt(rmse)"
   ]
  },
  {
   "cell_type": "markdown",
   "id": "d371e68e",
   "metadata": {
    "id": "d371e68e"
   },
   "source": [
    "---"
   ]
  },
  {
   "cell_type": "markdown",
   "id": "0186283d",
   "metadata": {
    "id": "0186283d"
   },
   "source": [
    "### 1.5 Mean Absolute Percentage Error (MAPE)"
   ]
  },
  {
   "cell_type": "markdown",
   "id": "12d25d53",
   "metadata": {
    "id": "12d25d53"
   },
   "source": [
    "Средняя процентная ошибка (МАРЕ) измеряет отклонение фактических значений от прогнозируемых значений в процентах.  \n",
    "  \n",
    "MAPE часто используется в бизнесе и экономике для оценки точности прогнозирования, особенно при прогнозировании спроса на товары или услуги.  \n",
    "  \n",
    "Преимущество данной метрики в том, что она позволяет сравнивать эффективность моделей, натренированных на данных различного масштаба.  \n",
    "  \n",
    "Формула для расчёта MAPE:"
   ]
  },
  {
   "cell_type": "markdown",
   "id": "cfc88a21",
   "metadata": {
    "id": "cfc88a21"
   },
   "source": [
    "$$MAPE = \\frac{100}{n} * \\sum{\\mid \\frac{y^{'}_{i} - y_{i}}{y_{i}} \\mid}$$"
   ]
  },
  {
   "cell_type": "markdown",
   "id": "a813bc80",
   "metadata": {
    "id": "a813bc80"
   },
   "source": [
    "Поскольку реальное значение $y_{i}$ может быть равен нулю, то для избежания деления на ноль в некоторых случаях в знаменатель добавляется ничтожно малое число $\\varepsilon$ (оно должно быть существенно ниже имеющихся реальных значений):"
   ]
  },
  {
   "cell_type": "markdown",
   "id": "925dc4d3",
   "metadata": {
    "id": "925dc4d3"
   },
   "source": [
    "$$MAPE = \\frac{100}{n} * \\sum{\\mid \\frac{y^{'}_{i} - y_{i}}{y_{i}} \\mid} \\ \\longrightarrow \\ MAPE = \\frac{100}{n} * \\sum{ \\frac{\\mid y^{'}_{i} - y_{i}\\mid}{\\mid y_{i} \\mid + \\varepsilon}}$$"
   ]
  },
  {
   "cell_type": "markdown",
   "id": "7a886662",
   "metadata": {
    "id": "7a886662"
   },
   "source": [
    "Другой способ избежать деление на ноль - это просто убрать из расчёта экземпляры, где реальное значение равно нулю (ибо для них применение этой метрики не имеет смысла)"
   ]
  },
  {
   "cell_type": "markdown",
   "id": "bbe25e5a",
   "metadata": {
    "id": "bbe25e5a"
   },
   "source": [
    "Аналогично предыдущему примеру, в данном задании мы будем вместо прогнозируемых значений использовать среднее группы:"
   ]
  },
  {
   "cell_type": "markdown",
   "id": "0c78f0a0",
   "metadata": {
    "id": "0c78f0a0"
   },
   "source": [
    "$$MAPE = \\frac{100}{n} * \\sum{ \\frac{\\mid \\hat{y} - y_{i}\\mid}{\\mid y_{i} \\mid + \\varepsilon}}$$"
   ]
  },
  {
   "cell_type": "markdown",
   "id": "120649aa",
   "metadata": {
    "id": "120649aa"
   },
   "source": [
    "#### Задание: написать функцию, которая получает на вход список чисел, и вычисляет MAPE:"
   ]
  },
  {
   "cell_type": "code",
   "execution_count": null,
   "id": "05ed159f",
   "metadata": {
    "id": "05ed159f"
   },
   "outputs": [],
   "source": [
    "def mape_score(items: Iterable[Union[int, float]]) -> float:\n",
    "    average = sum(items) / len(items)\n",
    "    modules_sum = 0\n",
    "    eps = 0.00000000000000000000000000000000000000000000000000000000000000000000000000001\n",
    "    for item in items:\n",
    "        modules_sum += abs(average - item)  / (abs(item) + eps)\n",
    "    return 100 / len(items) * modules_sum"
   ]
  },
  {
   "cell_type": "markdown",
   "id": "c189cc96",
   "metadata": {
    "id": "c189cc96"
   },
   "source": [
    "---"
   ]
  },
  {
   "cell_type": "markdown",
   "id": "1af98db3",
   "metadata": {
    "id": "1af98db3"
   },
   "source": [
    "# 2. Взвешенная оценка"
   ]
  },
  {
   "cell_type": "markdown",
   "id": "56676598",
   "metadata": {
    "id": "56676598"
   },
   "source": [
    "В некоторых ситуациях нам надо расчитать среднее взвешанное значение заданной метрики для нескольких групп. Слово *взвешенное* подразумевает, что вклад каждой группы в финальное значение пропорционален количеству элементов в ней.\n",
    "  \n",
    "Например: у нас есть две группы `A: [1, 1, 2, 1, 3, 2]` и `B: [3, 3, 2]`. Задача - расчитать взвешенное значение критерия Gini:"
   ]
  },
  {
   "cell_type": "markdown",
   "id": "26c43bf5",
   "metadata": {
    "id": "26c43bf5"
   },
   "source": [
    "$$Gini_{total} = \\frac{N_{A}}{N_{A} + N_{B}}Gini_{A} + \\frac{N_{B}}{N_{A} + N_{B}}Gini_{B} = \\frac{6}{9}*0.611 + \\frac{3}{9}*0.444 = 0.556$$"
   ]
  },
  {
   "cell_type": "markdown",
   "id": "10a8c7a5",
   "metadata": {
    "id": "10a8c7a5"
   },
   "source": [
    "#### Задание: написать функцию, которая получает на вход функцию метрики и несколько списоков чисел, и вычисляет взвешенное значение переданной метрики:"
   ]
  },
  {
   "cell_type": "code",
   "execution_count": null,
   "id": "5a0a4ef1",
   "metadata": {
    "id": "5a0a4ef1"
   },
   "outputs": [],
   "source": [
    "def weighted_metric_score(metric: Callable, *items: Iterable) -> float:\n",
    "    total_amount = 0\n",
    "    for item in items:\n",
    "        total_amount += len(item)\n",
    "\n",
    "    for item in items:\n",
    "        metric_score += metric(item) * len(item) / total_amount\n",
    "\n",
    "    return metric_score"
   ]
  },
  {
   "cell_type": "markdown",
   "id": "f7e4ad5c",
   "metadata": {
    "id": "f7e4ad5c"
   },
   "source": [
    "---"
   ]
  },
  {
   "cell_type": "markdown",
   "id": "25eef683",
   "metadata": {
    "id": "25eef683"
   },
   "source": [
    "# 3. Разделенение группы"
   ]
  },
  {
   "cell_type": "markdown",
   "id": "70d4700f",
   "metadata": {
    "id": "70d4700f"
   },
   "source": [
    "### 3.1 Деление группы на две"
   ]
  },
  {
   "cell_type": "markdown",
   "id": "60a16b4b",
   "metadata": {
    "id": "60a16b4b"
   },
   "source": [
    "Легче всего описать это задание с вводных данных:  \n",
    "  \n",
    "Есть два списка: один - вспомогательный (`features, F`), состоящий из чисел, второй - основной (`targets, T`), при этом их элементы связаны попарно:"
   ]
  },
  {
   "cell_type": "markdown",
   "id": "4b7c112f",
   "metadata": {
    "id": "4b7c112f"
   },
   "source": [
    "$$F_{i} \\leftrightarrow T_{i}$$"
   ]
  },
  {
   "cell_type": "markdown",
   "id": "cbc9241d",
   "metadata": {
    "id": "cbc9241d"
   },
   "source": [
    "Нам даётся число из вспомогательной группы `F`. Наша задача - разделить основную и вспомогательную группы так на две подгруппы так, чтобы все элементы $\\color{red}{первой}$ вспомогательной подгруппы были бы меньше или равны данному числу, а все элемены $\\color{blue}{второй}$ вспомогательной подгруппы - больше этого числа.\n",
    "  \n",
    "Например: нам данны следующие основная и вспомогательная группы:"
   ]
  },
  {
   "cell_type": "markdown",
   "id": "679627d6",
   "metadata": {
    "id": "679627d6"
   },
   "source": [
    "$$\n",
    "T = [1, 1, 2, 2, 1, 1, 2, 1, 3, 1, 3, 4, 1]  \\\\\n",
    "F = [3, 1, 9, 9, 1, 5, 2, 1, 7, 1, 3, 4, 9]\n",
    "$$"
   ]
  },
  {
   "cell_type": "markdown",
   "id": "bd2bf365",
   "metadata": {
    "id": "bd2bf365"
   },
   "source": [
    "Допустим, из вспомогательного списка выбрано число `5`. Таким образом, эти списки будут разделены следующим образом:"
   ]
  },
  {
   "cell_type": "markdown",
   "id": "2ca85a31",
   "metadata": {
    "id": "2ca85a31"
   },
   "source": [
    "$$\n",
    "T = [\\color{red}{1}, \\color{red}{1}, \\color{blue}{2}, \\color{blue}{2}, \\color{red}{1}, \\color{red}{1}, \\color{red}{2}, \\color{red}{1}, \\color{blue}{3}, \\color{red}{1}, \\color{red}{3}, \\color{red}{4}, \\color{blue}{1}] \\rightarrow [\\color{red}{1,1,1,1,3,1,1,3,4}] \\ , \\ [\\color{blue}{2,2,3,1}] \\\\\n",
    "F = [\\color{red}{3}, \\color{red}{1}, \\color{blue}{9}, \\color{blue}{9}, \\color{red}{1}, \\color{red}{5}, \\color{red}{2}, \\color{red}{1}, \\color{blue}{7}, \\color{red}{1}, \\color{red}{3}, \\color{red}{4}, \\color{blue}{9}] \\rightarrow [\\color{red}{3,1,1,5,2,1,1,3,4}] \\ , \\ [\\color{blue}{9,9,7,9}]\n",
    "$$"
   ]
  },
  {
   "cell_type": "markdown",
   "id": "2b343a91",
   "metadata": {
    "id": "2b343a91"
   },
   "source": [
    "#### Задание: написать функцию, которая получает на вход основной список `targets`, вспомогательный список `features` и \"делитель\" `split_value` и возвращает результат разбиения основного списка `sub_targets_1`, `sub_targets_2`:"
   ]
  },
  {
   "cell_type": "code",
   "execution_count": null,
   "id": "0744ee33",
   "metadata": {
    "id": "0744ee33"
   },
   "outputs": [],
   "source": [
    "def split_target_by_feature(targets: Iterable, features: Iterable, split_value: Union[int, \n",
    "                            float]) -> Tuple[Iterable, Iterable]:\n",
    "    sub_targets_1 = []\n",
    "    sub_targets_2 = []\n",
    "    for i in range(len(features)):\n",
    "        if features[i] <= split_value:\n",
    "            sub_targets_1.append(targets[i])\n",
    "        else:\n",
    "            sub_targets_2.append(targets[i])\n",
    "    return new_target = (sub_targets_1, sub_targets_2)"
   ]
  },
  {
   "cell_type": "markdown",
   "id": "bfaa97cb",
   "metadata": {
    "id": "bfaa97cb"
   },
   "source": [
    "---"
   ]
  },
  {
   "cell_type": "markdown",
   "id": "ac9154cf",
   "metadata": {
    "id": "ac9154cf"
   },
   "source": [
    "### 3.2 Поиск оптимального \"делителя\""
   ]
  },
  {
   "cell_type": "markdown",
   "id": "209c7d3f",
   "metadata": {
    "id": "209c7d3f"
   },
   "source": [
    "Следующий шаг - поиск оптимального \"делителя\", который позволит получить такие две подгруппы основного списка `targets`, взвешенная оценка которых для указанной метрики будет минимальна.  \n",
    "  \n",
    "Используя предыдущий пример, оценим вариант двух разбиений:  \n",
    "первый, когда \"делитель\" равен 5:"
   ]
  },
  {
   "cell_type": "markdown",
   "id": "43da45f6",
   "metadata": {
    "id": "43da45f6"
   },
   "source": [
    "$$\n",
    "T = [\\color{red}{1}, \\color{red}{1}, \\color{blue}{2}, \\color{blue}{2}, \\color{red}{1}, \\color{red}{1}, \\color{red}{2}, \\color{red}{1}, \\color{blue}{3}, \\color{red}{1}, \\color{red}{3}, \\color{red}{4}, \\color{blue}{1}] \\rightarrow [\\color{red}{1,1,1,1,3,1,1,3,4}] \\ , \\ [\\color{blue}{2,2,3,1}] \\\\\n",
    "F = [\\color{red}{3}, \\color{red}{1}, \\color{blue}{9}, \\color{blue}{9}, \\color{red}{1}, \\color{red}{5}, \\color{red}{2}, \\color{red}{1}, \\color{blue}{7}, \\color{red}{1}, \\color{red}{3}, \\color{red}{4}, \\color{blue}{9}] \\rightarrow [\\color{red}{3,1,1,5,2,1,1,3,4}] \\ , \\ [\\color{blue}{9,9,7,9}]\n",
    "$$"
   ]
  },
  {
   "cell_type": "markdown",
   "id": "acb2d4fd",
   "metadata": {
    "id": "acb2d4fd"
   },
   "source": [
    "второй - когда \"делитель\" равен 3:"
   ]
  },
  {
   "cell_type": "markdown",
   "id": "2a5575a3",
   "metadata": {
    "id": "2a5575a3"
   },
   "source": [
    "$$\n",
    "T = [\\color{red}{1}, \\color{red}{1}, \\color{blue}{2}, \\color{blue}{2}, \\color{red}{1}, \\color{blue}{1}, \\color{red}{2}, \\color{red}{1}, \\color{blue}{3}, \\color{red}{1}, \\color{red}{3}, \\color{blue}{4}, \\color{blue}{1}] \\rightarrow [\\color{red}{1,1,1,3,1,1,3}] \\ , \\ [\\color{blue}{2,2,1,3,1,4}] \\\\\n",
    "F = [\\color{red}{3}, \\color{red}{1}, \\color{blue}{9}, \\color{blue}{9}, \\color{red}{1}, \\color{blue}{5}, \\color{red}{2}, \\color{red}{1}, \\color{blue}{7}, \\color{red}{1}, \\color{red}{3}, \\color{blue}{4}, \\color{blue}{9}] \\rightarrow [\\color{red}{3,1,1,2,1,1,3}] \\ , \\ [\\color{blue}{9,9,5,7,9,4}]\n",
    "$$"
   ]
  },
  {
   "cell_type": "markdown",
   "id": "b19689b8",
   "metadata": {
    "id": "b19689b8"
   },
   "source": [
    "Допустим, что в качестве метрики выбрана этнропия.  \n",
    "  \n",
    "В таком случае, взвешенная оценка в первом варианте будет равна:"
   ]
  },
  {
   "cell_type": "markdown",
   "id": "63b38834",
   "metadata": {
    "id": "63b38834"
   },
   "source": [
    "$$\n",
    "Entropy_{total} = \\frac{9}{13} * Entropy([1,1,1,1,3,1,1,3,4]) + \\frac{4}{13} * Entropy([2,2,3,1]) = 0.847 + 0.462 = 1.309\n",
    "$$"
   ]
  },
  {
   "cell_type": "markdown",
   "id": "41d6287e",
   "metadata": {
    "id": "41d6287e"
   },
   "source": [
    "А во втором варианте:"
   ]
  },
  {
   "cell_type": "markdown",
   "id": "8cf2e007",
   "metadata": {
    "id": "8cf2e007"
   },
   "source": [
    "$$\n",
    "Entropy_{total} = \\frac{7}{13} * Entropy([1,1,1,3,1,1,3]) + \\frac{6}{13} * Entropy([2,2,1,3,1,4]) = 0.885 + 0.465 = 1.350\n",
    "$$"
   ]
  },
  {
   "cell_type": "markdown",
   "id": "575dfd44",
   "metadata": {
    "id": "575dfd44"
   },
   "source": [
    "Таким образом, `5` даёт меньшее значение взвешенной метрики по сравнению с `3`."
   ]
  },
  {
   "cell_type": "markdown",
   "id": "a3bf115d",
   "metadata": {
    "id": "a3bf115d"
   },
   "source": [
    "#### Задание: написать функцию, которая получает на вход функцию метрики `score_func`, основной список `targets`, вспомогательный список `features` и возвращает оптимальное значение \"делителя\":"
   ]
  },
  {
   "cell_type": "code",
   "execution_count": null,
   "id": "5dc8e67c",
   "metadata": {
    "id": "5dc8e67c"
   },
   "outputs": [],
   "source": [
    "def find_best_split_value(score_func: Callable, targets: Iterable, features: \n",
    "                            Iterable) -> Union[int, float]:\n",
    "    check_set = set(features) # выбираем уникальные значения \"делителя\"\n",
    "    entropy_total = {}\n",
    "    # делим списки по каждому значению \"делителя\"\n",
    "    for item in check_set:\n",
    "        sub_targets_1 = []\n",
    "        sub_targets_2 = []\n",
    "        for i in range(len(features)):\n",
    "            if features[i] <= item:\n",
    "                sub_targets_1.append(targets[i])\n",
    "            else:\n",
    "                sub_targets_2.append(targets[i])\n",
    "        # делаем словарь с парой {значение \"делителя\" : взвешенная энтропия}\n",
    "        entropy_total[item] = (len(sub_targets_1) / len(targets) * score_func(sub_targets_1) \n",
    "                        + len(sub_targets_2) / len(targets) * score_func(sub_targets_2))\n",
    "#print(check_set)\n",
    "#print(entropy_total)\n",
    "    count = 100000000000000000000000000000000000\n",
    "    # определяем минимальное значение энтропии\n",
    "    for key in entropy_total:\n",
    "        if entropy_total[key] < count:\n",
    "            count = entropy_total[key]\n",
    "#print(count)\n",
    "    #выводим нужный ключ (через \"обратный\" словарь)\n",
    "    reverse_dict = dict(zip(entropy_total.values(), entropy_total.keys()))\n",
    "    best_split_value = reverse_dict.get(count)\n",
    "#print(best_split_value)\n",
    "    return best_split_value"
   ]
  },
  {
   "cell_type": "markdown",
   "id": "7e5538ee",
   "metadata": {
    "id": "7e5538ee"
   },
   "source": [
    "---"
   ]
  },
  {
   "cell_type": "markdown",
   "id": "b8b4d8b2",
   "metadata": {
    "id": "b8b4d8b2"
   },
   "source": [
    "### 3.3 Выбор оптимального вспомогательного списка"
   ]
  },
  {
   "cell_type": "markdown",
   "id": "0ade83dd",
   "metadata": {
    "id": "0ade83dd"
   },
   "source": [
    "Расширим вводные данные: теперь помимо основного списка `targets`, нам даётся не один, а несколько вспомогательных списков `features` `F1`, `F2` ... `Fn`."
   ]
  },
  {
   "cell_type": "markdown",
   "id": "4db6a6e3",
   "metadata": {
    "id": "4db6a6e3"
   },
   "source": [
    "#### Задание: написать функцию, которая получает на вход функцию метрики `score_func`, основной список `targets`, группу вспомогательных списков `options` `F1`, `F2` ... `Fn` и возвращает индекс выбранного вспомогательного списка и оптимальное значение \"делителя\":"
   ]
  },
  {
   "cell_type": "code",
   "execution_count": null,
   "id": "8e365f05",
   "metadata": {
    "id": "8e365f05"
   },
   "outputs": [],
   "source": [
    "def find_best_split_value(score_func: Callable, targets: Iterable, options: \n",
    "                            List[Iterable]) -> Tuple[Iterable, Union[int, float]] -> Tuple:\n",
    "    optimal_values = {}\n",
    "    for i in range(len(options)): #для каждого вспомогательного списка \n",
    "        features = options[i]\n",
    "        check_set = set(features) # выбираем уникальные значения \"делителя\" в отдельный set\n",
    "        entropy_total = {}\n",
    "        # делим списки по каждому значению \"делителя\"\n",
    "        for item in check_set:\n",
    "            sub_targets_1 = []\n",
    "            sub_targets_2 = []\n",
    "            for k in range(len(features)):\n",
    "                if features[k] <= item:\n",
    "                    sub_targets_1.append(targets[k])\n",
    "                else:\n",
    "                    sub_targets_2.append(targets[k])\n",
    "            # делаем словарь с парой {значение \"делителя\" : взвешенная энтропия}\n",
    "            entropy_total[item] = (len(sub_targets_1) / len(targets) * score_func(sub_targets_1) \n",
    "                            + len(sub_targets_2) / len(targets) * score_func(sub_targets_2))\n",
    "        #print(check_set)\n",
    "        #print(entropy_total)\n",
    "        count = 100000000000000000000000000000000000\n",
    "        # определяем минимальное значение энтропии\n",
    "        for key in entropy_total:\n",
    "            if entropy_total[key] < count:\n",
    "                count = entropy_total[key]\n",
    "        #print(count)\n",
    "        # выводим нужный ключ (через \"обратный\" словарь)\n",
    "        reverse_dict = dict(zip(entropy_total.values(), entropy_total.keys()))\n",
    "        best_split_value = reverse_dict.get(count)\n",
    "        optimal_values[i] = [best_split_value, count]\n",
    "        #print(reverse_dict.get(count))\n",
    "    print(optimal_values)\n",
    "    minimal = 100000000000000000000000000000000000\n",
    "    final_result = []\n",
    "    for i in range(len(optimal_values)):\n",
    "        if optimal_values[i][1] < minimal:\n",
    "            minimal = optimal_values[i][1]\n",
    "            final_result = [i, optimal_values[i][0]]    \n",
    "    #print(final_result)\n",
    "    return tuple(final_result)"
   ]
  },
  {
   "cell_type": "markdown",
   "id": "6f7bdb6e",
   "metadata": {
    "id": "6f7bdb6e"
   },
   "source": [
    "---"
   ]
  },
  {
   "cell_type": "markdown",
   "id": "7eb69f15",
   "metadata": {
    "id": "7eb69f15"
   },
   "source": [
    "# <center>Классы</center>"
   ]
  },
  {
   "cell_type": "markdown",
   "id": "884d64a1",
   "metadata": {
    "id": "884d64a1"
   },
   "source": [
    "# 4. Узел (Node)"
   ]
  },
  {
   "cell_type": "markdown",
   "id": "e0bbd5c4",
   "metadata": {
    "id": "e0bbd5c4"
   },
   "source": [
    "#### Задание: напишите класс `Node`\n",
    "  \n",
    "Он должен иметь следующие атрибуты:\n",
    "- **id**       : int - **уникальный** номер для каждого экземпляра этого класса\n",
    "- **values**   : Iterable - значения, хранимые в данном узле\n",
    "- **parent**   : Optional `Node`- \"родительский\" узел, из которого был создан данный экземпляр (по умолчанию = None)\n",
    "- **children** : Optional List `[Node]` - узлы, образованные из данного экземпляра (по умолчанию = None)  \n",
    "  \n",
    "Также он должен обладать следующими методами:\n",
    "- **is_root** -> bool : проверяет, является ли данный узел \"корневым\" (т.е. имеется у него \"родитель\" или нет)\n",
    "- **is_leaf** -> bool : проверяет, является ли данный узел терминальным (т.е. имеется у него \"дети\" или нет)"
   ]
  },
  {
   "cell_type": "code",
   "execution_count": null,
   "id": "19b995a2",
   "metadata": {
    "id": "19b995a2"
   },
   "outputs": [],
   "source": [
    "class Node:\n",
    "\n",
    "    count = 0\n",
    "\n",
    "    def __init__(self, values: Any, parent: Optional[int] = None, children: \n",
    "                    Optional[List] = None):\n",
    "        Node.count += 1\n",
    "        self.id = Node.count\n",
    "        self.values = values\n",
    "        self.parent = parent\n",
    "        self.children = children\n",
    "\n",
    "    def is_root(self) -> bool:\n",
    "        return self.parent is None\n",
    "\n",
    "    def is_leaf(self) -> bool:\n",
    "        return self.children is None\n",
    "\n",
    "    def family_upadte(self):\n",
    "        if self.parent is not None:\n",
    "            if self.parent.children is None:\n",
    "                self.parent.children = []\n",
    "                self.parent.children.append(self)\n",
    "            else:\n",
    "                self.parent.children.append(self)\n",
    "\n",
    "        if self.children is not None: #родитель только один?\n",
    "            self.children.parent = self"
   ]
  },
  {
   "cell_type": "markdown",
   "id": "de847b35",
   "metadata": {
    "id": "de847b35"
   },
   "source": [
    "---"
   ]
  },
  {
   "cell_type": "markdown",
   "id": "a54c3b99",
   "metadata": {
    "id": "a54c3b99"
   },
   "source": [
    "# 5. Условие (Condition) и Группа условий (Conditions Group)"
   ]
  },
  {
   "cell_type": "markdown",
   "id": "6c6b53d3",
   "metadata": {
    "id": "6c6b53d3"
   },
   "source": [
    "#### Задание: напишите классы `Condition` и `ConditionsGroup`\n",
    "\n",
    "**Condition** представляет собой описание следующего правила: `признак Х` - `меньше или равно | больше` - `значения`  \n",
    "  \n",
    "Таким образом, этот класс должен обладать соответствующими атрибутами:\n",
    "- **feature** : str|int\n",
    "- **greater** : bool\n",
    "- **value**   : int|float\n",
    "\n",
    "**ConditionsGroup** должен сохранять список разных условий и иметь атрибут **conditions**"
   ]
  },
  {
   "cell_type": "code",
   "execution_count": null,
   "id": "aaa7323b",
   "metadata": {
    "id": "aaa7323b"
   },
   "outputs": [],
   "source": [
    "class Condition:\n",
    "    def __init__(self, feature: Union[str, int], greater: bool, value: Union[int,float]):\n",
    "        self.feature = feature\n",
    "        self.greater = greater\n",
    "        self.value = value\n",
    "\n",
    "    def check(self, instance) -> bool:\n",
    "        # Проверяет, удовлетворяет ли данный экземпляр заданному условию\n",
    "        if self.greater:\n",
    "            return instance[self.feature] > self.value\n",
    "        else:\n",
    "            return instance[self.feature] <= self.value\n",
    "\n",
    "class ConditionsGroup:\n",
    "    def __init__(self, conditions: list):\n",
    "        self.conditions = conditions\n",
    "\n",
    "    def match_check(self, instance) -> bool:\n",
    "        # Проверяет, удовлетворяет ли данный экземпляр всем условиям в данной группе\n",
    "        for condition in self.conditions:\n",
    "            if not condition.check(instance):\n",
    "                return False #если хоть одно False, то и итоговое будет False\n",
    "        return True\n",
    "# via ChatGPT"
   ]
  },
  {
   "cell_type": "markdown",
   "id": "1dfda0ea",
   "metadata": {
    "id": "1dfda0ea"
   },
   "source": [
    "---"
   ]
  },
  {
   "cell_type": "markdown",
   "id": "5d02e2f0",
   "metadata": {
    "id": "5d02e2f0"
   },
   "source": [
    "<div class=\"alert alert-info\">\n",
    "    <center><strong>Задание на 10 баллов</strong></center>\n",
    "</div>"
   ]
  },
  {
   "cell_type": "markdown",
   "id": "5594af8d",
   "metadata": {
    "id": "5594af8d"
   },
   "source": [
    "Реализуйте операцию объединения экземпляров классов **Condition** и **ConditionsGroup** следующим образом:\n",
    "- Если объединяются два экземпляра класса **Condition** и у обоих одинаковые атрибуты `feature` и `greater`, то объединение должно возвращать новый экземпляр **Condition** с тем значением атрибута `value`, который соответсвует логике\n",
    "- В любом другом случае должен возвращаться новый экземпляр **ConditionsGroup**, и, если при этом между элементами этого экземпляра возможно произвести объединение первого типа - то это нужно сделать (таким образом, не будет нескольких элементов с одинаковыми `feature` и `greater`)"
   ]
  },
  {
   "cell_type": "markdown",
   "id": "edd83bb7",
   "metadata": {
    "id": "edd83bb7"
   },
   "source": [
    "<center><h1>Удачи!</h1></center>"
   ]
  },
  {
   "cell_type": "code",
   "execution_count": null,
   "id": "91e4b939",
   "metadata": {},
   "outputs": [],
   "source": [
    "def separate_conditions_merge(condition_1: \"Condition\", condition_2: \"Condition\"):\n",
    "    # проверяем одинаковость\n",
    "    if (condition_1.feature == condition_2.feature and \n",
    "        condition_1.greater == condition_2.greater and \n",
    "        condition_1.value != condition_2.value):\n",
    "        new_value = 0\n",
    "        #определяем необходимое значение values\n",
    "        if condition_1.greater == True:\n",
    "            if condition_1.value < condition_2.value:\n",
    "                new_value = condition_1.value\n",
    "            else:\n",
    "                new_value = condition_2.value\n",
    "        else:\n",
    "            if condition_1.value < condition_2.value:\n",
    "                new_value = condition_2.value\n",
    "            else:\n",
    "                new_value = condition_1.value\n",
    "                #возвращаем новый экземпляр Condition\n",
    "        return Condition(feature = condition_1.feature, greater = condition_1.greater, \n",
    "                value = new_value)\n",
    "    else:\n",
    "        #возвращаем новый экземпляр ConditionsGroup\n",
    "        return ConditionsGroup([condition_1, condition_2])\n",
    "\n",
    "def conditions_merge(condition_1: Condition, conditions_group: ConditionsGroup):\n",
    "    new_conditions_group = ConditionsGroup([])\n",
    "    new_value = 0\n",
    "    for condition in conditions_group.conditions:\n",
    "        if (\n",
    "            condition_1.feature == condition.feature and \n",
    "            condition_1.greater == condition.greater\n",
    "            ):\n",
    "        #определяем необходимое значение values для new_value\n",
    "            if condition_1.greater == True:\n",
    "                if condition_1.value < condition.value:\n",
    "                    new_value = condition_1.value\n",
    "                else:\n",
    "                    new_value = condition.value\n",
    "            else:\n",
    "                if condition_1.value < condition.value:\n",
    "                    new_value = condition.value\n",
    "                else:\n",
    "                    new_value = condition_1.value\n",
    "            condition = Condition(\n",
    "                                feature = condition.feature, \n",
    "                                greater=condition.greater, \n",
    "                                value=new_value\n",
    "                                )\n",
    "        else: \n",
    "            continue\n",
    "        #если объединения не произошло, то добавляем condition_1 в текущий список ConditionsGroup\n",
    "    if new_value == 0:\n",
    "        conditions_group.conditions.append(condition_1)\n",
    "    return conditions_group\n",
    "\n",
    "# проверяем условия в ConditionsGroup на одинаковость\n",
    "def conditionsgroup_check(conditions_group: ConditionsGroup):\n",
    "    for i in range(len(conditions_group.conditions)):\n",
    "        for con in conditions_group.conditions:\n",
    "            #чтобы не проверять с самим собой\n",
    "            if (\n",
    "                conditions_group.conditions[i].feature == con.feature and \n",
    "                conditions_group.conditions[i].greater == con.greater and \n",
    "                conditions_group.conditions[i].value == con.value\n",
    "                ):\n",
    "                continue\n",
    "            #проверяем, что feature и greater совпадают\n",
    "            elif(conditions_group.conditions[i].feature == con.feature and \n",
    "                 conditions_group.conditions[i].greater == con.greater): \n",
    "                if conditions_group.conditions[i].greater == True:\n",
    "                    if conditions_group.conditions[i].value < con.value:\n",
    "                        new_value = conditions_group.conditions[i].value\n",
    "                    else:\n",
    "                        new_value = con.value\n",
    "                else:\n",
    "                    if conditions_group.conditions[i].value < con.value:\n",
    "                        new_value = con.value\n",
    "                    else:\n",
    "                        new_value = conditions_group.conditions[i].value\n",
    "                #обновляем значение \"новому объединённому\" conditions[i]\n",
    "                conditions_group.conditions[i] = Condition(\n",
    "                                                        feature = con.feature, \n",
    "                                                        greater=con.greater, \n",
    "                                                        value=new_value\n",
    "                                                        )\n",
    "                #присваиваем None значению, которое объединили\n",
    "                con = None\n",
    "    # Выкидываем значение, которое заменили\n",
    "    for con in conditions_group.conditions:\n",
    "        if con == None:\n",
    "            conditions_group.conditions.remove(con)\n",
    "    return conditions_group"
   ]
  },
  {
   "cell_type": "code",
   "execution_count": null,
   "id": "7c463374",
   "metadata": {},
   "outputs": [],
   "source": [
    "# ПРОВЕРКИ\n",
    "\n",
    "# Создаем условия\n",
    "condition1 = Condition(feature = 'age',    greater=True,  value = 25)\n",
    "condition2 = Condition(feature = 'age',    greater=True,  value = 18)\n",
    "condition3 = Condition(feature = 'income', greater=True,  value = 50000)\n",
    "condition4 = Condition(feature = 'height', greater=False, value = 160)\n",
    "# Создаем группу условий\n",
    "group_1 = ConditionsGroup([condition1, condition2, condition3])\n",
    "# Проверки\n",
    "print(group_1.conditions[0].value)\n",
    "\n",
    "conditionsgroup_check(group_1)\n",
    "\n",
    "print(group_1.conditions[0].value)\n",
    "\n",
    "print(group_1)\n",
    "x = separate_conditions_merge(condition1, condition2)\n",
    "#print(type(x))\n",
    "y = separate_conditions_merge(condition1, condition4)\n",
    "#print(type(y))\n",
    "z = conditions_merge(condition4, conditions_group=group_1)\n",
    "#print(z)\n",
    "for i in range(len(group_1.conditions)):\n",
    "    print(group_1.conditions[i])"
   ]
  }
 ],
 "metadata": {
  "colab": {
   "provenance": []
  },
  "kernelspec": {
   "display_name": "Python 3 (ipykernel)",
   "language": "python",
   "name": "python3"
  },
  "language_info": {
   "codemirror_mode": {
    "name": "ipython",
    "version": 3
   },
   "file_extension": ".py",
   "mimetype": "text/x-python",
   "name": "python",
   "nbconvert_exporter": "python",
   "pygments_lexer": "ipython3",
   "version": "3.11.0"
  },
  "vscode": {
   "interpreter": {
    "hash": "c8382ffeb946acba4e3202f3350379e6704e99c4f24df70219711074bc846a0c"
   }
  }
 },
 "nbformat": 4,
 "nbformat_minor": 5
}
