{
 "cells": [
  {
   "cell_type": "code",
   "execution_count": null,
   "id": "413b324a",
   "metadata": {},
   "outputs": [],
   "source": [
    "import sqlite3\n",
    "import numpy as np\n",
    "import pandas as pd\n",
    "from scipy.spatial.distance import cdist"
   ]
  },
  {
   "cell_type": "markdown",
   "id": "4837b2d0",
   "metadata": {},
   "source": [
    "## SQL"
   ]
  },
  {
   "cell_type": "code",
   "execution_count": null,
   "id": "888bc0bf",
   "metadata": {},
   "outputs": [],
   "source": [
    "con = sqlite3.Connection(\"data/hw2.sqlite\")"
   ]
  },
  {
   "cell_type": "code",
   "execution_count": null,
   "id": "e51fe4e0",
   "metadata": {},
   "outputs": [],
   "source": [
    "sql_restaurants = \"\"\"\n",
    "SELECT\n",
    "\trest.id AS \"rest_id\",\n",
    "\trt_types.type AS \"restaurant_type\",\n",
    "\tzip.lat AS \"lat\",\n",
    "\tzip.lng AS \"lng\"\n",
    "FROM\n",
    "\trestaurants AS rest\n",
    "LEFT JOIN restaurant_types AS rt_types ON\n",
    "\trest.type = rt_types.type_id\n",
    "LEFT JOIN zip_codes as zip ON\n",
    "\trest.zip = zip.zip;\n",
    "\"\"\""
   ]
  },
  {
   "cell_type": "code",
   "execution_count": null,
   "id": "45094d5e",
   "metadata": {},
   "outputs": [],
   "source": [
    "sql_tourists = \"\"\"\n",
    "SELECT\n",
    "t.id AS tourist_id,\n",
    "t.first_name AS \"first_name\",\n",
    "t.last_name AS \"last_name\",\n",
    "t.age AS \"age\",\n",
    "zip.lat AS \"lat\",\n",
    "zip.lng AS \"lng\"\n",
    "FROM \n",
    "tourists AS t\n",
    "LEFT JOIN zip_codes AS zip ON\n",
    "t.zip = zip.zip;\n",
    "\"\"\""
   ]
  },
  {
   "cell_type": "code",
   "execution_count": null,
   "id": "6912e00e",
   "metadata": {},
   "outputs": [],
   "source": [
    "restaurants = pd.read_sql(sql=sql_restaurants, con=con)\n",
    "restaurants.info()"
   ]
  },
  {
   "cell_type": "code",
   "execution_count": null,
   "id": "d9a9c92e",
   "metadata": {},
   "outputs": [],
   "source": [
    "tourists = pd.read_sql(sql=sql_tourists, con=con)\n",
    "tourists.info()"
   ]
  },
  {
   "cell_type": "markdown",
   "id": "8d19ecf2",
   "metadata": {},
   "source": [
    "## KNN"
   ]
  },
  {
   "cell_type": "code",
   "execution_count": null,
   "id": "aceedf11",
   "metadata": {},
   "outputs": [],
   "source": [
    "def knn(base: np.ndarray, entities: np.ndarray, k: int) -> np.ndarray:\n",
    "    distance = cdist(entities, base)\n",
    "    return np.argsort(distance, axis = 1)[:, :k]"
   ]
  },
  {
   "cell_type": "code",
   "execution_count": null,
   "id": "d2248882",
   "metadata": {},
   "outputs": [],
   "source": [
    "knn(base = restaurants.loc[:, \"lat\":\"lng\"].to_numpy(), entities= tourists.loc[:, \"lat\":\"lng\"].to_numpy(), k = 5)"
   ]
  },
  {
   "cell_type": "markdown",
   "id": "913dcfbb",
   "metadata": {},
   "source": [
    "## KMeans"
   ]
  },
  {
   "cell_type": "code",
   "execution_count": null,
   "id": "8d57dfdd",
   "metadata": {},
   "outputs": [],
   "source": [
    "'''\n",
    "Выбираем случайные точки\n",
    "Для каждой точки определяем расстояние до каждого ресторана\n",
    "Определяем ближайшую точку для каждого ресторана \n",
    "Группируем рестораны по ближайшим точкам (k групп)\n",
    "Для каждой группы определяем \"центральную\" точку = новая точка в каждой группе\n",
    "Цикл проверки:\n",
    "Определяем для ресторанов ближайшую точку из новых точек\n",
    "Группируем рестораны по новым точкам\n",
    "Если рестораны в группе поменялись - обновляем группу, опредеяем новую \n",
    "центральную точку в группе и повторяем цикл\n",
    "Если не поменялись - завершаем цикл.\n",
    "???\n",
    "Profit!!!\n",
    "'''"
   ]
  },
  {
   "cell_type": "code",
   "execution_count": null,
   "id": "7959ca5d",
   "metadata": {},
   "outputs": [],
   "source": [
    "# Шаг 1: выбор произвольных стартовых точек:\n",
    "def get_random_centroids(X: pd.DataFrame, k: int) -> pd.DataFrame:\n",
    "    return X.sample(n = k).to_numpy()"
   ]
  },
  {
   "cell_type": "code",
   "execution_count": null,
   "id": "c7fca30d",
   "metadata": {},
   "outputs": [],
   "source": [
    "# Шаг 2: KMeans:\n",
    "def kmeans(restaurants: np.ndarray, centroids: np.ndarray) -> np.ndarray:\n",
    "    k = len(centroids)\n",
    "    # Для каждой точки определяем расстояние до каждого ресторана \n",
    "    distances = cdist(centroids, restaurants)\n",
    "    #Определяем ближайшую точку для каждого ресторана\n",
    "    nearest_centroid = np.argmin(distances, axis=0)\n",
    "    # Группируем рестораны по ближайшим точкам (k групп)\n",
    "    groups = [np.where(nearest_centroid == c)[0] for c in range(k)]\n",
    "    # Для каждой группы определяем \"центральную\" точку = новая точка в каждой группе\n",
    "    new_centroids = np.array([np.nanmean(restaurants[groups[i]], axis=0) for i in range(k)])\n",
    "    # проверяем новые координаты\n",
    "    while True:\n",
    "        distances = cdist(new_centroids, restaurants, metric='euclidean')\n",
    "        nearest_centroid = np.argmin(distances, axis=0)\n",
    "        new_groups = [np.where(nearest_centroid == i)[0] for i in range(k)]\n",
    "    # проверяем, поменялись ли группы\n",
    "        if all([np.array_equal(groups[i], new_groups[i]) for i in range(k)]):\n",
    "            break\n",
    "        groups = new_groups\n",
    "        new_centroids = np.array([np.nanmean(restaurants[groups[i]], axis=0) for i in range(k)])\n",
    "    for i in range(k):\n",
    "        print(f\"Number of restaurants in group {i+1} is\", len(new_groups[i]))\n",
    "    return new_groups"
   ]
  },
  {
   "cell_type": "code",
   "execution_count": null,
   "id": "4c433939",
   "metadata": {},
   "outputs": [],
   "source": [
    "rand_coords = get_random_centroids(restaurants.loc[:, \"lat\":\"lng\"], 5)\n",
    "rand_coords"
   ]
  },
  {
   "cell_type": "code",
   "execution_count": null,
   "id": "cf790f4f",
   "metadata": {},
   "outputs": [],
   "source": [
    "kmeans(restaurants = restaurants.loc[:, \"lat\":\"lng\"].to_numpy(), centroids = rand_coords)"
   ]
  },
  {
   "cell_type": "markdown",
   "id": "f799d829",
   "metadata": {},
   "source": [
    "#### Если выбирать рандомные сгенерированные координаты (а не из списка ресторанов), то бывают случаи, когда kmeans \"падает\" и закидывает все рестораны в одну группу"
   ]
  },
  {
   "cell_type": "code",
   "execution_count": null,
   "id": "bbe1ddb8",
   "metadata": {
    "scrolled": true
   },
   "outputs": [],
   "source": [
    "restaurants.loc[:, \"lat\"].min()"
   ]
  },
  {
   "cell_type": "code",
   "execution_count": null,
   "id": "d4064020",
   "metadata": {},
   "outputs": [],
   "source": [
    "restaurants.loc[:, \"lat\"].max()"
   ]
  },
  {
   "cell_type": "code",
   "execution_count": null,
   "id": "55ef4f6f",
   "metadata": {},
   "outputs": [],
   "source": [
    "restaurants.loc[:, \"lng\"].min()"
   ]
  },
  {
   "cell_type": "code",
   "execution_count": null,
   "id": "2097fe30",
   "metadata": {
    "scrolled": true
   },
   "outputs": [],
   "source": [
    "restaurants.loc[:, \"lng\"].max()"
   ]
  },
  {
   "cell_type": "code",
   "execution_count": null,
   "id": "88be6e7f",
   "metadata": {},
   "outputs": [],
   "source": [
    "random_lng = np.random.uniform(low = -77.0000000, high = -73.200000, size = 2000)\n",
    "#random_lng"
   ]
  },
  {
   "cell_type": "code",
   "execution_count": null,
   "id": "d7efc836",
   "metadata": {},
   "outputs": [],
   "source": [
    "random_lat = np.random.uniform(low = 38.6600000, high = 42.500000, size = 2000)\n",
    "#random_lat"
   ]
  },
  {
   "cell_type": "code",
   "execution_count": null,
   "id": "b30447e7",
   "metadata": {},
   "outputs": [],
   "source": [
    "random_coords = pd.DataFrame(np.dstack((random_lat, random_lng)).reshape(2000, 2), columns = ['lat', \"lng\"])\n",
    "random_coords\n",
    "# pandas - чтобы потом использовать pd.df.sample()"
   ]
  },
  {
   "cell_type": "code",
   "execution_count": null,
   "id": "c491dc61",
   "metadata": {
    "scrolled": true
   },
   "outputs": [],
   "source": [
    "rand_centroids = get_random_centroids(random_coords, 5)\n",
    "rand_centroids"
   ]
  },
  {
   "cell_type": "code",
   "execution_count": null,
   "id": "18761308",
   "metadata": {
    "scrolled": true
   },
   "outputs": [],
   "source": [
    "kmeans(restaurants = restaurants.loc[:, \"lat\":\"lng\"].to_numpy(), centroids = rand_centroids)"
   ]
  },
  {
   "cell_type": "markdown",
   "id": "a01fa24c",
   "metadata": {},
   "source": [
    "## DBScan"
   ]
  },
  {
   "cell_type": "code",
   "execution_count": null,
   "id": "ec209cfa",
   "metadata": {},
   "outputs": [],
   "source": [
    "'''\n",
    "1) Рассчитываем расстояние между ресторанами (точками) и записываем его в \n",
    "список/ таблицу (расстояние всех от всех). \n",
    "\n",
    "2) Выбираем случайным образом ресторан (точку) и определяем, сколько \n",
    "ресторанов есть на расстоянии \"е\" от неё, записываем их в список (делаем \n",
    "группу)\n",
    "\n",
    "3) Для каждой точки в группе определяем, есть ли на расстоянии \"е\" от неё ещё\n",
    "точки: если есть, то добавляем в группу. \n",
    "Если на расстоянии \"е\" точек больше нет, то \"закрываем\" группу, переходим \n",
    "к следующей точке и выполняем ту же проверку.\n",
    "\n",
    "4) Если точка уже есть в какой-либо группе, переходим к следующей точке.\n",
    "5) Если в группе точек меньше, чем N, то помечаем группу как \"outlier\".\n",
    "'''"
   ]
  },
  {
   "cell_type": "code",
   "execution_count": null,
   "id": "7c73479e",
   "metadata": {},
   "outputs": [],
   "source": [
    "# 1)\n",
    "dist_table = cdist(\n",
    "                    restaurants.loc[:, \"lat\":\"lng\"], \n",
    "                    restaurants.loc[:, \"lat\":\"lng\"]\n",
    "                  )\n",
    "dist_table[1997]#.mean()"
   ]
  },
  {
   "cell_type": "code",
   "execution_count": null,
   "id": "292de4d6",
   "metadata": {},
   "outputs": [],
   "source": [
    "np.random.seed(1)\n",
    "np.random.randint(2000)"
   ]
  },
  {
   "cell_type": "code",
   "execution_count": null,
   "id": "5128551e",
   "metadata": {},
   "outputs": [],
   "source": [
    "e = 0.4\n",
    "np.random.seed(1)\n",
    "group1 = np.where(dist_table[np.random.randint(2000)] <= e)[0]\n",
    "group1.size"
   ]
  },
  {
   "cell_type": "code",
   "execution_count": null,
   "id": "608ce597",
   "metadata": {},
   "outputs": [],
   "source": [
    "# аналогично предыдущей строке\n",
    "e = 0.4\n",
    "np.random.seed(1)\n",
    "group_1 = np.asarray(dist_table[np.random.randint(2000)] <= e).nonzero()[0]\n",
    "group_1.size"
   ]
  },
  {
   "cell_type": "code",
   "execution_count": null,
   "id": "87bb6dea",
   "metadata": {},
   "outputs": [],
   "source": [
    "# только определяет точки на расстоянии e и отмечает их\n",
    "def scanner(coords: np.ndarray, point: int, e: float) -> np.array:\n",
    "    # таблица расстояний\n",
    "    dist_table = cdist(\n",
    "                    coords, \n",
    "                    coords\n",
    "                  )\n",
    "    initial_group = np.where(dist_table[point] <= e)[0] #группа точек на расстоянии <=e от исходной\n",
    "    clustered_points = [] # все проверенные точки\n",
    "    cluster_points = [] # точки текущего кластера\n",
    "    for item in initial_group:\n",
    "        if dist_table[0][item] not in clustered_points:\n",
    "            clustered_points.append(item)\n",
    "        cluster_points.append(item)\n",
    "    \n",
    "    return np.array(cluster_points).size, np.array(clustered_points).size"
   ]
  },
  {
   "cell_type": "code",
   "execution_count": null,
   "id": "1b99bf72",
   "metadata": {},
   "outputs": [],
   "source": [
    "np.random.seed(1)\n",
    "scanner(restaurants.loc[:, \"lat\":\"lng\"], point = np.random.randint(2000), e = 0.4)"
   ]
  },
  {
   "cell_type": "code",
   "execution_count": null,
   "id": "26d968da",
   "metadata": {},
   "outputs": [],
   "source": [
    "class DBScanner_rest:\n",
    "\n",
    "    def __init__(self, restaurants: np.ndarray, e: float, N: int):\n",
    "        self.restaurants = restaurants\n",
    "        self.e = e\n",
    "        self.N = N\n",
    "        self.distances = cdist(self.restaurants, self.restaurants) #расстояния между рестораноми\n",
    "        self.cluster_points = np.array([]) #список точек (индексов) текущего кластера\n",
    "        self.visited = [] # Список уже изученных точек\n",
    "        self.groups = {} # Список групп и точек, которые в них входят\n",
    "        self.outliers = {'outliers': []}\n",
    "        \n",
    "    # Шаг 2: выбор произвольной точки, которую мы ещё не исследовали:\n",
    "    def get_random_point(self):\n",
    "        point = np.random.randint(2000)\n",
    "        if point not in self.visited:\n",
    "            return point\n",
    "        point = get_random_point()\n",
    "    \n",
    "    # Шаг 3: Поиск точек, которые находятся на расстоянии не более чем `e` от выбранной точки:\n",
    "    def find_nearest_points(self, point): \n",
    "        indices = np.where(self.distances[point] <= self.e)[0]\n",
    "        #if indices.size < 2: # только для случая, когда такую точку передали изначально\n",
    "            #self.cluster_points = np.append(self.cluster_points, point)\n",
    "            #self.visited.append(point)\n",
    "            #self.outliers['outliers'].append(point)\n",
    "        #else: \n",
    "        for idx in indices: # добавляем точки в текущий кластер\n",
    "            if idx not in self.cluster_points:\n",
    "                self.cluster_points = np.append(self.cluster_points, idx)\n",
    "        self.visited.append(point)\n",
    "            \n",
    "        return self.cluster_points\n",
    "        \n",
    "# Шаг 4-5: Проверка других точек в группе на предмет наличия \"соседей\", до сих пор не вошедших в группу:        \n",
    "    def full_cluster(self, init_cluster: np.ndarray) -> np.ndarray:\n",
    "        for cluster_point in init_cluster:\n",
    "            indices = np.where(self.distances[int(cluster_point)] <= self.e)[0]\n",
    "            for idx in indices:\n",
    "                if idx in self.visited:\n",
    "                    continue\n",
    "                else: \n",
    "                    sub_cluster = self.find_nearest_points(idx)\n",
    "                    for sub_cluster_point in sub_cluster:\n",
    "                        if sub_cluster_point not in self.cluster_points:\n",
    "                            self.cluster_points = np.append(self.cluster_points, sub_cluster_point)\n",
    "        if self.cluster_points.size > len(init_cluster):\n",
    "            self.full_cluster(self.cluster_points)\n",
    "        return self.cluster_points\n",
    "# Шаг 6: Проход по всем точкам и группировка (повторяем шаги 1-5 до тех пор, пока не останется неисследованных точек):\n",
    "    def create_groups(self):\n",
    "        n = 1\n",
    "        for point in range(self.distances[0].size):\n",
    "            if point not in self.visited:\n",
    "                self.groups[n] = self.full_cluster(list(self.find_nearest_points(point)))\n",
    "                n += 1\n",
    "                self.cluster_points = np.array([])\n",
    "        for i in range(len(self.groups)):\n",
    "            if len(self.groups[i+1]) <= self.N:\n",
    "                self.outliers['outliers'].append(self.groups[i+1])\n",
    "        return self.groups"
   ]
  },
  {
   "cell_type": "code",
   "execution_count": null,
   "id": "f16808a4",
   "metadata": {},
   "outputs": [],
   "source": [
    "test = DBScanner_rest(restaurants = restaurants.loc[:, \"lat\":\"lng\"], e = 0.4, N = 5)"
   ]
  },
  {
   "cell_type": "code",
   "execution_count": null,
   "id": "f05d4d08",
   "metadata": {},
   "outputs": [],
   "source": [
    "test.create_groups()"
   ]
  },
  {
   "cell_type": "code",
   "execution_count": null,
   "id": "df5c7202",
   "metadata": {},
   "outputs": [],
   "source": [
    "test.outliers"
   ]
  },
  {
   "cell_type": "code",
   "execution_count": null,
   "id": "b4c45d32",
   "metadata": {},
   "outputs": [],
   "source": [
    "for i in range(len(test.groups)):\n",
    "    print(test.groups[i+1].size)"
   ]
  },
  {
   "cell_type": "code",
   "execution_count": null,
   "id": "40bd2f31",
   "metadata": {},
   "outputs": [],
   "source": [
    "#test.find_nearest_points(1061)"
   ]
  },
  {
   "cell_type": "code",
   "execution_count": null,
   "id": "f77d9f2e",
   "metadata": {},
   "outputs": [],
   "source": [
    "#test.cluster_points"
   ]
  },
  {
   "cell_type": "code",
   "execution_count": null,
   "id": "04392433",
   "metadata": {},
   "outputs": [],
   "source": [
    "#full_cluster = test.full_cluster(test.cluster_points)"
   ]
  },
  {
   "cell_type": "code",
   "execution_count": null,
   "id": "d1597dac",
   "metadata": {},
   "outputs": [],
   "source": [
    "#full_cluster.size"
   ]
  },
  {
   "cell_type": "markdown",
   "id": "308a26b7",
   "metadata": {},
   "source": [
    "### Аналог cdist"
   ]
  },
  {
   "cell_type": "code",
   "execution_count": null,
   "id": "b8be759e",
   "metadata": {},
   "outputs": [],
   "source": [
    "def euclidean_distance(XA: np.ndarray, XB: np.ndarray) -> np.ndarray:\n",
    "    return np.sqrt(np.sum((XA[:, np.newaxis, :] - XB[np.newaxis, :, :]) ** 2, axis=2))"
   ]
  },
  {
   "cell_type": "code",
   "execution_count": null,
   "id": "3188cb47",
   "metadata": {},
   "outputs": [],
   "source": [
    "euclidean_distance(restaurants.loc[:, \"lat\":\"lng\"].to_numpy(), restaurants.loc[:, \"lat\":\"lng\"].to_numpy())"
   ]
  }
 ],
 "metadata": {
  "kernelspec": {
   "display_name": "Python 3 (ipykernel)",
   "language": "python",
   "name": "python3"
  },
  "language_info": {
   "codemirror_mode": {
    "name": "ipython",
    "version": 3
   },
   "file_extension": ".py",
   "mimetype": "text/x-python",
   "name": "python",
   "nbconvert_exporter": "python",
   "pygments_lexer": "ipython3",
   "version": "3.11.0"
  }
 },
 "nbformat": 4,
 "nbformat_minor": 5
}
