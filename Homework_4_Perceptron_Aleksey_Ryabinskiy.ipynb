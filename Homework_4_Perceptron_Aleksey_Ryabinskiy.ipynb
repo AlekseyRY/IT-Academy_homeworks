{
 "cells": [
  {
   "cell_type": "markdown",
   "id": "076da5ba",
   "metadata": {},
   "source": [
    "<div class=\"alert alert-info\"><center><h1>Биологический нейрон</h1></center></div>"
   ]
  },
  {
   "cell_type": "markdown",
   "id": "2255b724",
   "metadata": {},
   "source": [
    "**Нейрон** — электрически возбудимая клетка, которая предназначена для приёма извне, обработки, хранения, передачи и вывода вовне информации с помощью электрических и химических сигналов.  \n",
    "  \n",
    "Типичный нейрон состоит из тела клетки, дендритов и одного аксона:"
   ]
  },
  {
   "cell_type": "markdown",
   "id": "aa916480",
   "metadata": {},
   "source": [
    "![neuron](images/neuron.png)"
   ]
  },
  {
   "cell_type": "markdown",
   "id": "30244433",
   "metadata": {},
   "source": [
    "Простыми словами можно описать принцип действия нейрона следующим образом:\n",
    "- через дендриты в нейрон поступают сигналы (раздражители)\n",
    "- Если комбинация сигналов превышает пороговый уровень - нейрон \"выстреливает\", т.е. передаёт сигнал дальше через аксон."
   ]
  },
  {
   "cell_type": "markdown",
   "id": "2a7ce203",
   "metadata": {},
   "source": [
    "Нейроны могут соединяться один с другим, формируя нервные сети."
   ]
  },
  {
   "cell_type": "markdown",
   "id": "5200e275",
   "metadata": {},
   "source": [
    "<div class=\"alert alert-info\"><center><h1>Функции Активации (Activation Functions)</h1></center></div>"
   ]
  },
  {
   "cell_type": "markdown",
   "id": "1d41f55f",
   "metadata": {},
   "source": [
    "Простейшим механизмом активации является **Step activation**, когда перспептрон передаёт на выход значение только в том случае, если сумма взвешенных входящих сигналов больше заданного порога:"
   ]
  },
  {
   "cell_type": "markdown",
   "id": "ff07a8e1",
   "metadata": {},
   "source": [
    "![step](images/step_activation.png)"
   ]
  },
  {
   "cell_type": "markdown",
   "id": "a3b588aa",
   "metadata": {},
   "source": [
    "При всей своей простоте, данная функция активации обладает критическим недостатком: она недифференцируемая.  Как результат, она не позволяет осуществлять процесс обучения персептрона.  \n",
    "  \n",
    "Для того, чтобы исправить это, было разработано множество других функций активаций, таких как:"
   ]
  },
  {
   "cell_type": "markdown",
   "id": "baf346ed",
   "metadata": {},
   "source": [
    "![neuron](images/activation_functions.png)"
   ]
  },
  {
   "cell_type": "markdown",
   "id": "40d1d1b0",
   "metadata": {},
   "source": [
    "<div class=\"alert alert-warning\"><center><h1>Задание 1 (2 балла)</h1></center></div>"
   ]
  },
  {
   "cell_type": "markdown",
   "id": "6be49dd4",
   "metadata": {},
   "source": [
    "Напишите класс **ActivationFunction** и его подкласс **Sigmoid**, у которого будет функция `forward`, которая:\n",
    "- будет принимать на вход число и будет сохранять его внутри объекта\n",
    "- будет возвращать результат в соответствии с фукцией $\\sigma(x) = \\frac{1}{1 + e^{-x}}$"
   ]
  },
  {
   "cell_type": "code",
   "execution_count": null,
   "id": "2a68d43c",
   "metadata": {},
   "outputs": [],
   "source": [
    "import numpy as np\n",
    "\n",
    "\n",
    "class ActivationFunction:\n",
    "    ...\n",
    "\n",
    "\n",
    "class Sigmoid(ActivationFunction):\n",
    "\n",
    "    def forward(self, value: float) -> float:\n",
    "        self.value = value\n",
    "        return 1 / (1 + np.exp(-value))"
   ]
  },
  {
   "cell_type": "code",
   "execution_count": null,
   "id": "0a04876c",
   "metadata": {},
   "outputs": [],
   "source": [
    "sg = Sigmoid()\n",
    "sg.forward(value = 0)"
   ]
  },
  {
   "cell_type": "markdown",
   "id": "8c54ea44",
   "metadata": {},
   "source": [
    "---"
   ]
  },
  {
   "cell_type": "markdown",
   "id": "78315b25",
   "metadata": {},
   "source": [
    "---"
   ]
  },
  {
   "cell_type": "markdown",
   "id": "53618f50",
   "metadata": {},
   "source": [
    "<div class=\"alert alert-info\"><center><h1>Персептрон</h1></center></div>"
   ]
  },
  {
   "cell_type": "markdown",
   "id": "266324a8",
   "metadata": {},
   "source": [
    "**Персептрон** -  математическая модель биологического нейрона, является базовым элементом нейронных сетей:"
   ]
  },
  {
   "cell_type": "markdown",
   "id": "c63f671b",
   "metadata": {},
   "source": [
    "![neuron](images/perceptron.png)"
   ]
  },
  {
   "cell_type": "markdown",
   "id": "54cc65e4",
   "metadata": {},
   "source": [
    "**Персептрон** состоит из следующих ключевых элементов:\n",
    "- `вход` - отвечает за получение входных значений. Является аналогом дендрита биологического нейрона\n",
    "- `веса` - механизм \"важности\" входных значений. По аналогии с нейроном - это \"толщина\" дендрита\n",
    "- `функция активации` - обрабатывает сумму взвешенных входных сигналов и передаёт результат на выход\n",
    "- `выход` - отвечает за передачу итогового результата. Аналогичен аксону\n",
    "  \n",
    "Практически всегда к входным сигналам также добавляется \"bias\", который всегда = 1.  \n",
    "Это позволяет не привязывать выход персептрона к 0 в случае, если все входные сигналы также равны 0 (как в механизме регрессии)"
   ]
  },
  {
   "cell_type": "markdown",
   "id": "057194ee",
   "metadata": {},
   "source": [
    "<div class=\"alert alert-warning\"><center><h1>Задание 2 (4 балла)</h1></center></div>"
   ]
  },
  {
   "cell_type": "markdown",
   "id": "d42423ee",
   "metadata": {},
   "source": [
    "напишите класс **Layer**, у когорого будут следующие входные параметры:\n",
    "- **n_inputs** - количество входящих значений\n",
    "- **n_outputs** - количество исходящих значений (в нашем случае = 1)\n",
    "- **activation** - объект из семейства **ActivationFunction** (в нашем случае - **Sigmoid**)\n",
    "  \n",
    "При своём создании объект класса **Layer** должен также создавать атрибут `weights_`, в ктором будут рандомально инициализированны веса для входящих значений, а также для `bias`\n",
    "\n",
    "Класс **Layer** должен иметь функцию `forward`, принимающую на вход массив *numpy*, и возвращающую результат функции активации (тоже в виде массива).  \n",
    "Также эта функция должна сохранять полученные на вход значения внутри экземпляра"
   ]
  },
  {
   "cell_type": "code",
   "execution_count": null,
   "id": "04ec3681",
   "metadata": {},
   "outputs": [],
   "source": [
    "import numpy as np\n",
    "\n",
    "\n",
    "class Layer:\n",
    "    def __init__(self, n_inputs: int, n_outputs: int = 1, activation = Sigmoid()):\n",
    "        self.n_inputs = n_inputs\n",
    "        self.n_outputs = n_outputs\n",
    "        self.activation = activation\n",
    "        self.weights_ = np.random.rand(n_inputs + 1, n_outputs)\n",
    "        self.inputs_ = None\n",
    "    \n",
    "    def forward(self, X: np.ndarray):\n",
    "        self.inputs_ = np.insert(X, obj = 0, values=1, axis = 0)\n",
    "        weighted_sum = np.dot(self.inputs_, self.weights_)\n",
    "        return self.activation.forward(weighted_sum)"
   ]
  },
  {
   "cell_type": "code",
   "execution_count": null,
   "id": "fec27aa6",
   "metadata": {},
   "outputs": [],
   "source": [
    "inputs = np.array([0.001, 2, 0.8, 7, 0.6])"
   ]
  },
  {
   "cell_type": "code",
   "execution_count": null,
   "id": "84a33bd8",
   "metadata": {},
   "outputs": [],
   "source": [
    "perceptron = Layer(n_inputs = 5, activation=Sigmoid())\n",
    "\n",
    "perceptron.forward(inputs)"
   ]
  },
  {
   "cell_type": "code",
   "execution_count": null,
   "id": "e3583908",
   "metadata": {
    "scrolled": true
   },
   "outputs": [],
   "source": [
    "perceptron.weights_"
   ]
  },
  {
   "cell_type": "code",
   "execution_count": null,
   "id": "3a23a172",
   "metadata": {},
   "outputs": [],
   "source": [
    "perceptron.inputs_"
   ]
  },
  {
   "cell_type": "markdown",
   "id": "a2100ce8",
   "metadata": {},
   "source": [
    "---"
   ]
  },
  {
   "cell_type": "markdown",
   "id": "2ecfecac",
   "metadata": {},
   "source": [
    "<div class=\"alert alert-warning\"><center><h1>Задание 3 (2 балла)</h1></center></div>"
   ]
  },
  {
   "cell_type": "markdown",
   "id": "15bcc0dc",
   "metadata": {},
   "source": [
    "напишите класс **LossFunction** и его подкласс **CrossEntropy**, у которого будет функция `loss`, которая будет принимать реальное бинарное значение *y_fact* и вероятность *y_prob* (оба параметра в виде np.array) и будет возвращать результат по формуле:  \n",
    "  \n",
    "$$\n",
    "L = - \\sum (y_{fact} * log(y_{prob}) + (1-y_{fact})*log(1-y_{prob}))\n",
    "$$"
   ]
  },
  {
   "cell_type": "code",
   "execution_count": null,
   "id": "40a91107",
   "metadata": {},
   "outputs": [],
   "source": [
    "class LossFunction:\n",
    "    ...\n",
    "\n",
    "class CrossEntropy (LossFunction):\n",
    "\n",
    "    def loss(self, y_fact: np.ndarray, y_prob: np.ndarray):\n",
    "        return -np.sum(y_fact*np.log(y_prob) + (1-y_fact)*np.log(1-y_prob))"
   ]
  },
  {
   "cell_type": "code",
   "execution_count": null,
   "id": "db01831b",
   "metadata": {},
   "outputs": [],
   "source": [
    "ce = CrossEntropy()"
   ]
  },
  {
   "cell_type": "code",
   "execution_count": null,
   "id": "4d083b5b",
   "metadata": {},
   "outputs": [],
   "source": [
    "ce.loss(y_fact = np.array(1), y_prob = np.array(0.363274))"
   ]
  },
  {
   "cell_type": "code",
   "execution_count": null,
   "id": "5a28638b",
   "metadata": {},
   "outputs": [],
   "source": [
    "#проверка\n",
    "y_fact = np.array([1, 0, 1])  # Реальные значения (бинарные)\n",
    "y_prob = np.array([0.9, 0.3, 0.4])  # Предсказанные вероятности"
   ]
  },
  {
   "cell_type": "code",
   "execution_count": null,
   "id": "1fdc0add",
   "metadata": {},
   "outputs": [],
   "source": [
    "ce.loss(y_fact = y_fact, y_prob = y_prob)"
   ]
  },
  {
   "cell_type": "markdown",
   "id": "0724135c",
   "metadata": {},
   "source": [
    "---"
   ]
  },
  {
   "cell_type": "markdown",
   "id": "3adeb1c5",
   "metadata": {},
   "source": [
    "<div class=\"alert alert-info\"><center><h1>Обучение. Forward and Backpropagation</h1></center></div>"
   ]
  },
  {
   "cell_type": "markdown",
   "id": "5305fa49",
   "metadata": {},
   "source": [
    "Процесс обучения персептрона (и в целом нейросети) итеративен и состоит из следующих этапов:\n",
    "- Сперва персептрон инициализируется с рандомальными весами\n",
    "- Осуществляется цикл \"вперёд\":\n",
    "  - Входные значения перемножаются с соответствующими весами и суммируются\n",
    "  - Эта сумма подаётся на функцию активации\n",
    "  - Функция активации возвращает итоговое значение\n",
    "- Итоговое значение сравнивается с ожидаемым и высчитывается ошибка (Loss)\n",
    "---\n",
    "- Осуществляется цикл \"назад\":\n",
    "  - при помощи `Chain Rule` рассчитываются частичные производные для всех элементов персептрона\n",
    "  - исходя из заданного коэффициента обучения (`learning rate`, $\\alpha$), веса $w_{i}$ корректируются\n",
    "- Данный цикл повторяется заданное количество раз или до тех пор, пока итоговая ошибка не опустится ниже заданного порогового значения"
   ]
  },
  {
   "cell_type": "markdown",
   "id": "308f269a",
   "metadata": {},
   "source": [
    "![img](images/training.png)"
   ]
  },
  {
   "cell_type": "markdown",
   "id": "561a0181",
   "metadata": {},
   "source": [
    "### <center>Chain Rule</center>"
   ]
  },
  {
   "cell_type": "markdown",
   "id": "920cc590",
   "metadata": {},
   "source": [
    "Если нам дана функция $y=f(u)$, где $u = g(x)$, то тогда производная этой функции по $x$ будет равно:"
   ]
  },
  {
   "cell_type": "markdown",
   "id": "48de5834",
   "metadata": {},
   "source": [
    "$$\n",
    "\\frac{dy}{dx} = \\frac{dy}{du}\\frac{du}{dx}\n",
    "$$"
   ]
  },
  {
   "cell_type": "markdown",
   "id": "b0f31ddb",
   "metadata": {},
   "source": [
    "Тогда для того, чтобы понять, насколько изменение весов $w$ влияет на изменение $y$ (т.е. производные $\\frac{dy}{dw_{i}}$), можно вычислить следующие производные:"
   ]
  },
  {
   "cell_type": "markdown",
   "id": "0d239444",
   "metadata": {},
   "source": [
    "![neuron](images/backpropagation.png)"
   ]
  },
  {
   "cell_type": "markdown",
   "id": "6568f1db",
   "metadata": {},
   "source": [
    "<div class=\"alert alert-warning\"><center><h1>Задание 4 (8 баллов)</h1></center></div>"
   ]
  },
  {
   "cell_type": "markdown",
   "id": "7be53a81",
   "metadata": {},
   "source": [
    "Модифицируйте классы **Layer**, **LossFuncton** и **ActivationFunction** таким образом, чтобы можно было рассчитать их частичные производные, и добавьте функцию `back`, позволяющую осуществить backpropagation."
   ]
  },
  {
   "cell_type": "markdown",
   "id": "9534b596",
   "metadata": {},
   "source": [
    "<div class=\"alert alert-danger\"><center><h3>Это задание очень сложное, и даже частичное его выполнение будет учитываться</h3></center></div>"
   ]
  },
  {
   "cell_type": "code",
   "execution_count": 2,
   "id": "cfd802b5",
   "metadata": {},
   "outputs": [],
   "source": [
    "import numpy as np"
   ]
  },
  {
   "cell_type": "code",
   "execution_count": 3,
   "id": "038540ef",
   "metadata": {},
   "outputs": [],
   "source": [
    "class ActivationFunction():\n",
    "    ...\n",
    "\n",
    "    \n",
    "class Sigmoid(ActivationFunction):\n",
    "    \n",
    "    def __init__(self):\n",
    "        self.value = None\n",
    "        \n",
    "    def forward(self, value):\n",
    "        self.value = value\n",
    "        return 1 / (1 + np.exp(-value))\n",
    "    \n",
    "    def gradient(self, value):\n",
    "        sigmoid = self.forward(value)\n",
    "        return sigmoid * (1 - sigmoid) "
   ]
  },
  {
   "cell_type": "code",
   "execution_count": 4,
   "id": "4692a781",
   "metadata": {},
   "outputs": [],
   "source": [
    "class LossFunction():\n",
    "    ...\n",
    "    \n",
    "    \n",
    "class CrossEntropy(LossFunction):\n",
    "\n",
    "    def loss(self, y_fact: np.ndarray, y_prob: np.ndarray):\n",
    "        y_prob = np.clip(y_prob, 1e-15, 1 - 1e-15)\n",
    "        loss = -np.sum(y_fact * np.log(y_prob) + (1 - y_fact) * np.log(1 - y_prob))\n",
    "        return loss\n",
    "    \n",
    "    def gradient(self, y_fact: np.ndarray, y_prob: np.ndarray):\n",
    "        y_prob = np.clip(y_prob, 1e-15, 1 - 1e-15)\n",
    "        return -(y_fact/ y_prob) + (1 - y_fact) / (1 - y_prob)"
   ]
  },
  {
   "cell_type": "code",
   "execution_count": 5,
   "id": "45652946",
   "metadata": {},
   "outputs": [],
   "source": [
    "rng = np.random.default_rng(seed = 42)\n",
    "\n",
    "class Layer():\n",
    "    def __init__(self, n_inputs: int, n_outputs: int = 1, activation = Sigmoid()):\n",
    "        self.n_inputs = n_inputs\n",
    "        self.n_outputs = n_outputs\n",
    "        self.activation = activation\n",
    "        self.weights_ = rng.random(size = (n_inputs + 1, n_outputs))\n",
    "        self.inputs_ = None\n",
    "        self.outputs_ = None\n",
    "        self.weighted_sum_ = None #для проверки \n",
    "        self.distributed_gradient_ = None # для проверки\n",
    "        \n",
    "    def forward(self, X: np.ndarray) -> np.ndarray:\n",
    "        self.inputs_ = np.insert(X, obj = 0, values = 1, axis = 1) # добавляет 1 к входным значениям (для bias) \n",
    "        self.weighted_sum_ = np.dot(self.inputs_, self.weights_)\n",
    "        self.outputs_ = activation.forward(self.weighted_sum_)\n",
    "        return self.outputs_\n",
    "    \n",
    "    def backward(self, loss_func_gradient: float, learning_rate: float = 0.2):\n",
    "        # расчитываем производную Activation Function (производная loss_func расчитана внешне = loss_func_gradient)\n",
    "        gradient = activation.gradient(self.weighted_sum_) * loss_func_gradient\n",
    "        # распределяем градиент\n",
    "        self.distributed_gradient_ = np.dot(gradient, self.inputs_) / self.inputs_.shape[0]\n",
    "        # обновляем веса \n",
    "        self.weights_ -= self.distributed_gradient_.T * learning_rate\n",
    "        return gradient"
   ]
  },
  {
   "cell_type": "code",
   "execution_count": 16,
   "id": "d28c47b4",
   "metadata": {},
   "outputs": [],
   "source": [
    "activation = Sigmoid()\n",
    "loss_function = CrossEntropy()\n",
    "layer = Layer(n_inputs=8, n_outputs=1, activation=activation)"
   ]
  },
  {
   "cell_type": "code",
   "execution_count": 17,
   "id": "715505ff",
   "metadata": {},
   "outputs": [],
   "source": [
    "X = np.array([[2, 1.1, 7, 0.8, 0.34, 0.6, 5, 1.72]])\n",
    "y_true = np.array([[0]])"
   ]
  },
  {
   "cell_type": "code",
   "execution_count": 18,
   "id": "84d713f6",
   "metadata": {},
   "outputs": [
    {
     "data": {
      "text/plain": [
       "array([[0.22723872],\n",
       "       [0.55458479],\n",
       "       [0.06381726],\n",
       "       [0.82763117],\n",
       "       [0.6316644 ],\n",
       "       [0.75808774],\n",
       "       [0.35452597],\n",
       "       [0.97069802],\n",
       "       [0.89312112]])"
      ]
     },
     "execution_count": 18,
     "metadata": {},
     "output_type": "execute_result"
    }
   ],
   "source": [
    "layer.weights_"
   ]
  },
  {
   "cell_type": "code",
   "execution_count": 19,
   "id": "e9bf73ab",
   "metadata": {},
   "outputs": [
    {
     "name": "stdout",
     "output_type": "stream",
     "text": [
      "14.56548133654328\n",
      "0.09634034989477644\n",
      "0.021275844889491642\n",
      "0.014967507995754276\n",
      "0.011671011691657882\n",
      "0.009607551311503088\n",
      "0.00818321850736742\n",
      "0.007136550455546433\n",
      "0.006332915009660183\n",
      "0.0056954313288833875\n",
      "0.005176815040234264\n",
      "0.004746304875185894\n",
      "0.004382986098957274\n",
      "0.004072122446547191\n",
      "0.00380302045107704\n",
      "0.0035677256371603972\n",
      "0.0033601944997189233\n",
      "0.003175750754049025\n",
      "0.0030107178534770408\n",
      "0.002862164355264543\n",
      "0.0027277235729997705\n",
      "0.0026054633430051335\n",
      "0.0024937903399746314\n",
      "0.0023913786777026275\n",
      "0.002297115880280648\n",
      "0.002210061475255103\n",
      "0.0021294148905796977\n",
      "0.002054490299709665\n",
      "0.001984696718144806\n",
      "0.0019195221130308\n",
      "0.0018585206108195965\n",
      "0.0018013021192562761\n",
      "0.001747523847397658\n",
      "0.0016968833299844163\n",
      "0.0016491126532553052\n",
      "0.0016039736471412144\n",
      "0.0015612538599800935\n",
      "0.0015207631708632418\n",
      "0.0014823309246318251\n",
      "0.0014458034976740312\n",
      "0.0014110422206903275\n",
      "0.0013779215987273197\n",
      "0.0013463277799381321\n",
      "0.0013161572333901265\n",
      "0.0012873156033221382\n",
      "0.0012597167129421772\n",
      "0.0012332816954506018\n",
      "0.0012079382337066562\n",
      "0.001183619892994344\n",
      "0.0011602655338395801\n"
     ]
    }
   ],
   "source": [
    "loses = []\n",
    "for epoch in range(50): \n",
    "    y_prob = layer.forward(X)\n",
    "    loss = loss_function.loss(y_fact = y_true, y_prob = y_prob)\n",
    "    \n",
    "    loses.append(loss)\n",
    "    print(loss)\n",
    "    \n",
    "    gradient = loss_function.gradient(y_fact = y_true, y_prob= y_prob)\n",
    "    update = layer.backward(gradient)"
   ]
  },
  {
   "cell_type": "code",
   "execution_count": 10,
   "id": "420b5258",
   "metadata": {},
   "outputs": [
    {
     "data": {
      "text/plain": [
       "array([[ 0.51905498],\n",
       "       [-0.0709237 ],\n",
       "       [ 0.57820674],\n",
       "       [-1.08693947],\n",
       "       [-0.10974351],\n",
       "       [ 0.88895599]])"
      ]
     },
     "execution_count": 10,
     "metadata": {},
     "output_type": "execute_result"
    }
   ],
   "source": [
    "layer.weights_"
   ]
  },
  {
   "cell_type": "markdown",
   "id": "ce113a7a",
   "metadata": {},
   "source": [
    "----"
   ]
  },
  {
   "cell_type": "markdown",
   "id": "1295fc41",
   "metadata": {},
   "source": [
    "### Пошагово"
   ]
  },
  {
   "cell_type": "code",
   "execution_count": null,
   "id": "fce4046f",
   "metadata": {},
   "outputs": [],
   "source": [
    "l1 = layer.forward(X)\n",
    "l1"
   ]
  },
  {
   "cell_type": "code",
   "execution_count": null,
   "id": "5712c0a4",
   "metadata": {},
   "outputs": [],
   "source": [
    "layer.weights_"
   ]
  },
  {
   "cell_type": "code",
   "execution_count": null,
   "id": "a1879eb0",
   "metadata": {},
   "outputs": [],
   "source": [
    "lf_loss = loss_function.loss(y_fact = y_true, y_prob=l1)\n",
    "lf_loss"
   ]
  },
  {
   "cell_type": "code",
   "execution_count": null,
   "id": "9cff3464",
   "metadata": {},
   "outputs": [],
   "source": [
    "lf_gradient = loss_function.gradient(y_fact = y_true, y_prob=l1)\n",
    "lf_gradient"
   ]
  },
  {
   "cell_type": "code",
   "execution_count": null,
   "id": "619a94ab",
   "metadata": {},
   "outputs": [],
   "source": [
    "l1_back = layer.backward(loss_func_gradient=lf_gradient)\n",
    "l1_back"
   ]
  },
  {
   "cell_type": "code",
   "execution_count": null,
   "id": "36de4828",
   "metadata": {},
   "outputs": [],
   "source": [
    "layer.weights_"
   ]
  },
  {
   "cell_type": "code",
   "execution_count": null,
   "id": "b5655f5b",
   "metadata": {},
   "outputs": [],
   "source": [
    "l1_2 = layer.forward(X)\n",
    "l1_2"
   ]
  },
  {
   "cell_type": "code",
   "execution_count": null,
   "id": "909bbf61",
   "metadata": {},
   "outputs": [],
   "source": [
    "lf_loss_2 = loss_function.loss(y_fact = y_true, y_prob=l1_2)\n",
    "lf_loss_2"
   ]
  },
  {
   "cell_type": "code",
   "execution_count": null,
   "id": "b4fbd23f",
   "metadata": {},
   "outputs": [],
   "source": [
    "lf_gradient_2 = loss_function.gradient(y_fact = y_true, y_prob=l1_2)\n",
    "lf_gradient_2"
   ]
  },
  {
   "cell_type": "code",
   "execution_count": null,
   "id": "58e35e4f",
   "metadata": {},
   "outputs": [],
   "source": [
    "l1_back_2 = layer.backward(loss_func_gradient=lf_gradient_2)\n",
    "l1_back_2"
   ]
  },
  {
   "cell_type": "code",
   "execution_count": null,
   "id": "05c90c83",
   "metadata": {},
   "outputs": [],
   "source": [
    "layer.weights_"
   ]
  },
  {
   "cell_type": "code",
   "execution_count": null,
   "id": "07702127",
   "metadata": {},
   "outputs": [],
   "source": [
    "loses = []"
   ]
  },
  {
   "cell_type": "markdown",
   "id": "958636ac",
   "metadata": {},
   "source": [
    "---"
   ]
  },
  {
   "cell_type": "markdown",
   "id": "90f00233",
   "metadata": {},
   "source": [
    "# <center>Удачи!</center>"
   ]
  }
 ],
 "metadata": {
  "kernelspec": {
   "display_name": "Python 3 (ipykernel)",
   "language": "python",
   "name": "python3"
  },
  "language_info": {
   "codemirror_mode": {
    "name": "ipython",
    "version": 3
   },
   "file_extension": ".py",
   "mimetype": "text/x-python",
   "name": "python",
   "nbconvert_exporter": "python",
   "pygments_lexer": "ipython3",
   "version": "3.11.0"
  }
 },
 "nbformat": 4,
 "nbformat_minor": 5
}
